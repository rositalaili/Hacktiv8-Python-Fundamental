{
 "cells": [
  {
   "cell_type": "code",
   "execution_count": 1,
   "id": "a6817522",
   "metadata": {},
   "outputs": [
    {
     "name": "stdout",
     "output_type": "stream",
     "text": [
      "yes\n",
      "yes\n",
      "yes\n"
     ]
    }
   ],
   "source": [
    "#conditional\n",
    "\n",
    "x=0\n",
    "y=5\n",
    "\n",
    "if x<y: #truthy\n",
    "    print('yes')\n",
    "if y<x: #falsy\n",
    "    print('yes')\n",
    "if x: #falsy\n",
    "    print('yes')\n",
    "if y: #truthy\n",
    "    print('yes')\n",
    "if 'aul' in 'grault': #truthy\n",
    "    print('yes')\n",
    "if 'quux' in ['foo','bar','baz']: #falsy\n",
    "    print('yes')"
   ]
  },
  {
   "cell_type": "code",
   "execution_count": 2,
   "id": "bc66edae",
   "metadata": {},
   "outputs": [
    {
     "name": "stdout",
     "output_type": "stream",
     "text": [
      "After conditional\n"
     ]
    }
   ],
   "source": [
    "#grouping statements: indentation and blocks\n",
    "\n",
    "if 'foo' in ['bar','baz','qux']:\n",
    "    print('expression was true')\n",
    "    print('executing statement in suite')\n",
    "    print('...')\n",
    "    print('done.')\n",
    "print('After conditional')"
   ]
  },
  {
   "cell_type": "code",
   "execution_count": 3,
   "id": "cf8700a8",
   "metadata": {},
   "outputs": [
    {
     "name": "stdout",
     "output_type": "stream",
     "text": [
      "Outer condition is true\n",
      "between inner conditions\n",
      "inner condition 2\n",
      "end of outer condition\n",
      "after outer condition\n"
     ]
    }
   ],
   "source": [
    "if 'foo' in ['foo','bar','baz']:\n",
    "    print('Outer condition is true')\n",
    "    \n",
    "    if 10>20:\n",
    "        print('inner condition 1')\n",
    "    print('between inner conditions')\n",
    "    \n",
    "    if 10<20:\n",
    "        print('inner condition 2')\n",
    "    print('end of outer condition')\n",
    "print('after outer condition')"
   ]
  },
  {
   "cell_type": "code",
   "execution_count": 5,
   "id": "f73d38ba",
   "metadata": {},
   "outputs": [
    {
     "name": "stdout",
     "output_type": "stream",
     "text": [
      "(first suite)\n",
      "x is small\n"
     ]
    }
   ],
   "source": [
    "#the else and elif clauses\n",
    "\n",
    "x=20\n",
    "\n",
    "if x<50:\n",
    "    print('(first suite)')\n",
    "    print('x is small')\n",
    "else:\n",
    "    print('(second suite)')\n",
    "    print('x is large')"
   ]
  },
  {
   "cell_type": "code",
   "execution_count": 6,
   "id": "abd307e3",
   "metadata": {},
   "outputs": [
    {
     "name": "stdout",
     "output_type": "stream",
     "text": [
      "(second suite)\n",
      "x is large\n"
     ]
    }
   ],
   "source": [
    "x=120\n",
    "\n",
    "if x<50:\n",
    "    print('(first suite)')\n",
    "    print('x is small')\n",
    "else:\n",
    "    print('(second suite)')\n",
    "    print('x is large')"
   ]
  },
  {
   "cell_type": "code",
   "execution_count": 7,
   "id": "6755360b",
   "metadata": {},
   "outputs": [
    {
     "name": "stdout",
     "output_type": "stream",
     "text": [
      "uang tidak cukup\n"
     ]
    }
   ],
   "source": [
    "hargaBuku = 20000\n",
    "hargaMajalah = 5000\n",
    "uang = 2000\n",
    "\n",
    "if uang>hargaBuku:\n",
    "    print('beli buku')\n",
    "else:\n",
    "    print('uang tidak cukup')"
   ]
  },
  {
   "cell_type": "code",
   "execution_count": 8,
   "id": "0514033f",
   "metadata": {},
   "outputs": [
    {
     "name": "stdout",
     "output_type": "stream",
     "text": [
      "uang tidak cukup\n"
     ]
    }
   ],
   "source": [
    "hargaBuku = 20000\n",
    "hargaMajalah = 5000\n",
    "uang = 2000\n",
    "\n",
    "if uang>hargaBuku:\n",
    "    print('beli buku')\n",
    "elif uang>hargaMajalah:\n",
    "    print('beli majalah')\n",
    "else:\n",
    "    print('uang tidak cukup')"
   ]
  },
  {
   "cell_type": "code",
   "execution_count": 11,
   "id": "b0105b03",
   "metadata": {},
   "outputs": [
    {
     "name": "stdout",
     "output_type": "stream",
     "text": [
      "Hello Hacktiv8\n"
     ]
    }
   ],
   "source": [
    "name = 'Hacktiv8'\n",
    "if name=='Fred':\n",
    "    print('Hello Fred')\n",
    "elif name =='Xander':\n",
    "    print('Hello Xander')\n",
    "elif name=='Hacktiv8':\n",
    "    print('Hello Hacktiv8')\n",
    "elif name=='Arnold':\n",
    "    print('Hello Arnold')\n",
    "else:\n",
    "    print(\"I don't know who you are!\")"
   ]
  },
  {
   "cell_type": "code",
   "execution_count": 12,
   "id": "97619ed8",
   "metadata": {},
   "outputs": [
    {
     "name": "stdout",
     "output_type": "stream",
     "text": [
      "foo\n"
     ]
    }
   ],
   "source": [
    "if 'a' in 'bar':\n",
    "    print('foo')\n",
    "elif 1/0:\n",
    "    print(\"This won't happen\")\n",
    "elif var:\n",
    "    print(\"This won't either\")"
   ]
  },
  {
   "cell_type": "code",
   "execution_count": 13,
   "id": "6b3d24d0",
   "metadata": {},
   "outputs": [
    {
     "name": "stdout",
     "output_type": "stream",
     "text": [
      "1\n",
      "2\n",
      "3\n"
     ]
    }
   ],
   "source": [
    "#one-line if statements\n",
    "\n",
    "if 'f' in 'foo':print('1'); print('2'); print('3')"
   ]
  },
  {
   "cell_type": "code",
   "execution_count": 14,
   "id": "c92efe9b",
   "metadata": {},
   "outputs": [],
   "source": [
    "if 'z' in 'foo': print('1'); print('2'); print('3')"
   ]
  },
  {
   "cell_type": "code",
   "execution_count": 15,
   "id": "46b4fdce",
   "metadata": {},
   "outputs": [
    {
     "name": "stdout",
     "output_type": "stream",
     "text": [
      "qux\n",
      "quux\n"
     ]
    }
   ],
   "source": [
    "x=2\n",
    "\n",
    "if x==1: print('foo'); print('bar'); print('baz')\n",
    "elif x==2: print('qux'); print('quux')\n",
    "else: print('corge'); print('grault')"
   ]
  },
  {
   "cell_type": "code",
   "execution_count": 16,
   "id": "961fc083",
   "metadata": {},
   "outputs": [
    {
     "name": "stdout",
     "output_type": "stream",
     "text": [
      "corge\n",
      "grault\n"
     ]
    }
   ],
   "source": [
    "x=3\n",
    "if x==1: print('foo'); print('bar'); print('baz')\n",
    "elif x==2: print('qux'); print(quux)\n",
    "else: print('corge'); print('grault')"
   ]
  },
  {
   "cell_type": "code",
   "execution_count": 17,
   "id": "bd86044b",
   "metadata": {},
   "outputs": [
    {
     "name": "stdout",
     "output_type": "stream",
     "text": [
      "corge\n",
      "grault\n"
     ]
    }
   ],
   "source": [
    "x=3\n",
    "if x==1:\n",
    "    print('foo')\n",
    "    print('bar')\n",
    "    print('baz')\n",
    "elif x==2:\n",
    "    print('qux')\n",
    "    print('quux')\n",
    "else:\n",
    "    print('corge')\n",
    "    print('grault')"
   ]
  },
  {
   "cell_type": "code",
   "execution_count": 18,
   "id": "36ae3e58",
   "metadata": {},
   "outputs": [
    {
     "name": "stdout",
     "output_type": "stream",
     "text": [
      "let's go to the beach\n"
     ]
    }
   ],
   "source": [
    "#conditional expression (python's ternary operator)\n",
    "\n",
    "raining = False\n",
    "print(\"let's go to the\", 'beach' if not raining else 'library')"
   ]
  },
  {
   "cell_type": "code",
   "execution_count": 19,
   "id": "89d60c3d",
   "metadata": {},
   "outputs": [
    {
     "name": "stdout",
     "output_type": "stream",
     "text": [
      "let's go to the library\n"
     ]
    }
   ],
   "source": [
    "raining = True\n",
    "print(\"let's go to the\", 'beach' if not raining else 'library')"
   ]
  },
  {
   "cell_type": "code",
   "execution_count": 20,
   "id": "ef455c27",
   "metadata": {},
   "outputs": [
    {
     "data": {
      "text/plain": [
       "'teen'"
      ]
     },
     "execution_count": 20,
     "metadata": {},
     "output_type": "execute_result"
    }
   ],
   "source": [
    "age = 12\n",
    "s = 'teen' if age<21 else 'adult'\n",
    "s"
   ]
  },
  {
   "cell_type": "code",
   "execution_count": 21,
   "id": "8d7dfa3f",
   "metadata": {},
   "outputs": [
    {
     "data": {
      "text/plain": [
       "'no'"
      ]
     },
     "execution_count": 21,
     "metadata": {},
     "output_type": "execute_result"
    }
   ],
   "source": [
    "'yes' if ('qux' in ['foo','bar','baz']) else 'no'"
   ]
  },
  {
   "cell_type": "code",
   "execution_count": 23,
   "id": "4656fd5f",
   "metadata": {},
   "outputs": [
    {
     "name": "stdout",
     "output_type": "stream",
     "text": [
      "foo\n"
     ]
    }
   ],
   "source": [
    "#the python pass statement\n",
    "\n",
    "if True:\n",
    "    pass\n",
    "\n",
    "print('foo')"
   ]
  },
  {
   "cell_type": "code",
   "execution_count": 24,
   "id": "c8893e96",
   "metadata": {},
   "outputs": [
    {
     "name": "stdout",
     "output_type": "stream",
     "text": [
      "4\n",
      "3\n",
      "2\n",
      "1\n",
      "0\n"
     ]
    }
   ],
   "source": [
    "#python 'while' loops\n",
    "\n",
    "n=5\n",
    "while n>0:\n",
    "    n -=1\n",
    "    print(n)"
   ]
  },
  {
   "cell_type": "code",
   "execution_count": 25,
   "id": "14c0b309",
   "metadata": {},
   "outputs": [
    {
     "name": "stdout",
     "output_type": "stream",
     "text": [
      "1\n",
      "2\n",
      "3\n",
      "4\n",
      "5\n"
     ]
    }
   ],
   "source": [
    "i=1\n",
    "while i<6:\n",
    "    print(i)\n",
    "    i +=1"
   ]
  },
  {
   "cell_type": "code",
   "execution_count": 26,
   "id": "13a1cfd3",
   "metadata": {},
   "outputs": [
    {
     "name": "stdout",
     "output_type": "stream",
     "text": [
      "4\n",
      "3\n",
      "loop ended.\n"
     ]
    }
   ],
   "source": [
    "#the python break and continue statements\n",
    "\n",
    "n=5\n",
    "while n>0:\n",
    "    n -=1\n",
    "    if n==2:\n",
    "        break\n",
    "    print(n)\n",
    "print('loop ended.')"
   ]
  },
  {
   "cell_type": "code",
   "execution_count": 27,
   "id": "7d663f76",
   "metadata": {},
   "outputs": [
    {
     "name": "stdout",
     "output_type": "stream",
     "text": [
      "4\n",
      "3\n",
      "1\n",
      "0\n",
      "loop ended.\n"
     ]
    }
   ],
   "source": [
    "n=5\n",
    "while n>0:\n",
    "    n -=1\n",
    "    if n==2:\n",
    "        continue\n",
    "    print(n)\n",
    "print('loop ended.')"
   ]
  },
  {
   "cell_type": "code",
   "execution_count": 28,
   "id": "a0e77fca",
   "metadata": {},
   "outputs": [
    {
     "name": "stdout",
     "output_type": "stream",
     "text": [
      "4\n",
      "3\n",
      "2\n",
      "1\n",
      "0\n",
      "loop done.\n"
     ]
    }
   ],
   "source": [
    "#the else clause\n",
    "\n",
    "n=5\n",
    "while n>0:\n",
    "    n -=1\n",
    "    print(n)\n",
    "print('loop done.')"
   ]
  },
  {
   "cell_type": "code",
   "execution_count": 29,
   "id": "1d262f6b",
   "metadata": {},
   "outputs": [
    {
     "name": "stdout",
     "output_type": "stream",
     "text": [
      "4\n",
      "3\n",
      "2\n"
     ]
    }
   ],
   "source": [
    "n=5\n",
    "while n>0:\n",
    "    n -=1\n",
    "    print(n)\n",
    "    if n==2:\n",
    "        break\n",
    "else:\n",
    "    print('loop done.')"
   ]
  },
  {
   "cell_type": "code",
   "execution_count": null,
   "id": "9c52a562",
   "metadata": {},
   "outputs": [],
   "source": [
    "#infinite loops\n",
    "\n",
    "while True:\n",
    "    print('foo')"
   ]
  },
  {
   "cell_type": "code",
   "execution_count": 32,
   "id": "d0273610",
   "metadata": {},
   "outputs": [
    {
     "name": "stdout",
     "output_type": "stream",
     "text": [
      "father\n"
     ]
    }
   ],
   "source": [
    "#nested while loops\n",
    "\n",
    "gender = 'M'\n",
    "age=18\n",
    "\n",
    "if age<18:\n",
    "    if gender=='M':\n",
    "        print('son')\n",
    "    else:\n",
    "        print('daughter')\n",
    "elif age >=18 and age<65:\n",
    "    if gender=='M':\n",
    "        print('father')\n",
    "    else:\n",
    "        print('mother')\n",
    "else:\n",
    "    if gender=='M':\n",
    "        print('grandfather')\n",
    "    else:\n",
    "        print('grandmother')"
   ]
  },
  {
   "cell_type": "code",
   "execution_count": 33,
   "id": "5c652dff",
   "metadata": {},
   "outputs": [
    {
     "name": "stdout",
     "output_type": "stream",
     "text": [
      "foo\n",
      "> baz\n",
      "> qux\n",
      "bar\n",
      "> baz\n",
      "> qux\n"
     ]
    }
   ],
   "source": [
    "a=['foo','bar']\n",
    "\n",
    "while len(a):\n",
    "    print(a.pop(0))\n",
    "    \n",
    "    b=['baz','qux']\n",
    "    \n",
    "    while len(b):\n",
    "        print('>',b.pop(0))"
   ]
  },
  {
   "cell_type": "code",
   "execution_count": 35,
   "id": "03f7aec9",
   "metadata": {},
   "outputs": [
    {
     "name": "stdout",
     "output_type": "stream",
     "text": [
      "4\n",
      "3\n",
      "2\n",
      "1\n",
      "0\n"
     ]
    }
   ],
   "source": [
    "#one-line while loops\n",
    "\n",
    "n=5\n",
    "while n>0: n -=1; print(n)"
   ]
  },
  {
   "cell_type": "code",
   "execution_count": 38,
   "id": "a7b1a30d",
   "metadata": {},
   "outputs": [
    {
     "name": "stdout",
     "output_type": "stream",
     "text": [
      "foo\n",
      "bar\n",
      "baz\n"
     ]
    }
   ],
   "source": [
    "#the python for loop\n",
    "\n",
    "a=['foo','bar','baz']\n",
    "for i in a:\n",
    "    print(i)"
   ]
  },
  {
   "cell_type": "code",
   "execution_count": 39,
   "id": "f2ea78d2",
   "metadata": {},
   "outputs": [
    {
     "name": "stdout",
     "output_type": "stream",
     "text": [
      "foo\n",
      "bar\n",
      "baz\n"
     ]
    }
   ],
   "source": [
    "d={'foo':1, 'bar':2, 'baz':3}\n",
    "for k in d:\n",
    "    print(k)"
   ]
  },
  {
   "cell_type": "code",
   "execution_count": 40,
   "id": "b66d412d",
   "metadata": {},
   "outputs": [
    {
     "name": "stdout",
     "output_type": "stream",
     "text": [
      "1\n",
      "2\n",
      "3\n"
     ]
    }
   ],
   "source": [
    "for k in d:\n",
    "    print(d[k])"
   ]
  },
  {
   "cell_type": "code",
   "execution_count": 41,
   "id": "6fedd679",
   "metadata": {},
   "outputs": [
    {
     "name": "stdout",
     "output_type": "stream",
     "text": [
      "1\n",
      "2\n",
      "3\n"
     ]
    }
   ],
   "source": [
    "for k in d.values():\n",
    "    print(k)"
   ]
  },
  {
   "cell_type": "code",
   "execution_count": 42,
   "id": "17e9499f",
   "metadata": {},
   "outputs": [
    {
     "name": "stdout",
     "output_type": "stream",
     "text": [
      "foo : 1\n",
      "bar : 2\n",
      "baz : 3\n"
     ]
    }
   ],
   "source": [
    "for k,v in d.items():\n",
    "    print(k,':',v)"
   ]
  },
  {
   "cell_type": "code",
   "execution_count": 43,
   "id": "98304b1a",
   "metadata": {},
   "outputs": [
    {
     "name": "stdout",
     "output_type": "stream",
     "text": [
      "foo\n",
      "bar\n",
      "baz\n"
     ]
    }
   ],
   "source": [
    "#iterating through a dictionary\n",
    "\n",
    "d={'foo':1, 'bar':2, 'baz':3}\n",
    "for k in d:\n",
    "    print(k)"
   ]
  },
  {
   "cell_type": "code",
   "execution_count": 44,
   "id": "97fb8e75",
   "metadata": {},
   "outputs": [
    {
     "name": "stdout",
     "output_type": "stream",
     "text": [
      "1\n",
      "2\n",
      "3\n"
     ]
    }
   ],
   "source": [
    "for k in d:\n",
    "    print(d[k])"
   ]
  },
  {
   "cell_type": "code",
   "execution_count": 45,
   "id": "062b5dca",
   "metadata": {},
   "outputs": [
    {
     "name": "stdout",
     "output_type": "stream",
     "text": [
      "1\n",
      "2\n",
      "3\n"
     ]
    }
   ],
   "source": [
    "for v in d.values():\n",
    "    print(v)"
   ]
  },
  {
   "cell_type": "code",
   "execution_count": 46,
   "id": "0c119cb4",
   "metadata": {},
   "outputs": [
    {
     "name": "stdout",
     "output_type": "stream",
     "text": [
      "0\n",
      "1\n",
      "2\n",
      "3\n",
      "4\n"
     ]
    }
   ],
   "source": [
    "#the range() function\n",
    "\n",
    "for n in (0,1,2,3,4):\n",
    "    print(n)"
   ]
  },
  {
   "cell_type": "code",
   "execution_count": 47,
   "id": "040c6b1a",
   "metadata": {},
   "outputs": [
    {
     "name": "stdout",
     "output_type": "stream",
     "text": [
      "0\n",
      "1\n",
      "2\n",
      "3\n",
      "4\n"
     ]
    }
   ],
   "source": [
    "x = range(5)\n",
    "for n in x:\n",
    "    print(n)"
   ]
  },
  {
   "cell_type": "code",
   "execution_count": 51,
   "id": "b6c37931",
   "metadata": {},
   "outputs": [
    {
     "name": "stdout",
     "output_type": "stream",
     "text": [
      "foo\n",
      "in if before break bar\n"
     ]
    }
   ],
   "source": [
    "#altering for loop behavior\n",
    "#the break and continue statements\n",
    "\n",
    "for i in ['foo','bar','baz','qux']:\n",
    "    if 'b' in i:\n",
    "        print('in if before break',i)\n",
    "        break\n",
    "    print(i)"
   ]
  },
  {
   "cell_type": "code",
   "execution_count": 54,
   "id": "f7cd961e",
   "metadata": {},
   "outputs": [
    {
     "name": "stdout",
     "output_type": "stream",
     "text": [
      "foo\n"
     ]
    }
   ],
   "source": [
    "for i in ['foo','bar','baz','qux']:\n",
    "    if 'b' in i:\n",
    "        break\n",
    "    print(i)"
   ]
  },
  {
   "cell_type": "code",
   "execution_count": 52,
   "id": "0b16d0fa",
   "metadata": {},
   "outputs": [
    {
     "name": "stdout",
     "output_type": "stream",
     "text": [
      "foo\n",
      "in if before continue bar\n",
      "in if before continue baz\n",
      "qux\n"
     ]
    }
   ],
   "source": [
    "for i in ['foo','bar','baz','qux']:\n",
    "    if 'b' in i:\n",
    "        print('in if before continue',i)\n",
    "        continue\n",
    "    print(i)"
   ]
  },
  {
   "cell_type": "code",
   "execution_count": 55,
   "id": "0f8a4744",
   "metadata": {},
   "outputs": [
    {
     "name": "stdout",
     "output_type": "stream",
     "text": [
      "foo\n",
      "qux\n"
     ]
    }
   ],
   "source": [
    "for i in ['foo','bar','baz','qux']:\n",
    "    if 'b' in i:\n",
    "        continue\n",
    "    print(i)"
   ]
  },
  {
   "cell_type": "code",
   "execution_count": 53,
   "id": "dab0aa2f",
   "metadata": {},
   "outputs": [
    {
     "name": "stdout",
     "output_type": "stream",
     "text": [
      "foo\n",
      "in if before pass bar\n",
      "bar\n",
      "in if before pass baz\n",
      "baz\n",
      "qux\n"
     ]
    }
   ],
   "source": [
    "for i in ['foo','bar','baz','qux']:\n",
    "    if 'b' in i:\n",
    "        print('in if before pass',i)\n",
    "        pass\n",
    "    print(i)"
   ]
  },
  {
   "cell_type": "code",
   "execution_count": 56,
   "id": "c461fd8c",
   "metadata": {},
   "outputs": [
    {
     "name": "stdout",
     "output_type": "stream",
     "text": [
      "foo\n",
      "bar\n",
      "baz\n",
      "qux\n"
     ]
    }
   ],
   "source": [
    "for i in ['foo','bar','baz','qux']:\n",
    "    if 'b' in i:\n",
    "        pass\n",
    "    print(i)"
   ]
  },
  {
   "cell_type": "code",
   "execution_count": 57,
   "id": "b50c8d78",
   "metadata": {},
   "outputs": [
    {
     "name": "stdout",
     "output_type": "stream",
     "text": [
      "foo\n",
      "bar\n",
      "baz\n",
      "qux\n",
      "Done.\n"
     ]
    }
   ],
   "source": [
    "#the else clause\n",
    "\n",
    "for i in['foo','bar','baz','qux']:\n",
    "    print(i)\n",
    "else:\n",
    "    print('Done.')"
   ]
  },
  {
   "cell_type": "code",
   "execution_count": 58,
   "id": "d48972e5",
   "metadata": {},
   "outputs": [
    {
     "name": "stdout",
     "output_type": "stream",
     "text": [
      "foo\n"
     ]
    }
   ],
   "source": [
    "for i in ['foo','bar','baz','qux']:\n",
    "    if i =='bar':\n",
    "        break\n",
    "    print(i)\n",
    "else:\n",
    "    print('Done.')"
   ]
  },
  {
   "cell_type": "code",
   "execution_count": 59,
   "id": "6af84876",
   "metadata": {},
   "outputs": [
    {
     "name": "stdout",
     "output_type": "stream",
     "text": [
      "ketikan temperatur yang ingin dikonversi, eg. 45F, 120C: 30C\n",
      "Temperaturnya adalah  86  derajat\n"
     ]
    }
   ],
   "source": [
    "#contoh penggunaan\n",
    "\n",
    "temp=input(\"ketikan temperatur yang ingin dikonversi, eg. 45F, 120C: \")\n",
    "degree=int(temp[:-1])\n",
    "i_convertion=temp[-1]\n",
    "\n",
    "if i_convertion==\"C\":\n",
    "    result=int(round((9*degree)/5+32))\n",
    "elif i_convertion==\"F\":\n",
    "    result=int(round((degree-32)*5/9))\n",
    "else:\n",
    "    print(\"masukan input yang benar\")\n",
    "print(\"Temperaturnya adalah \",result,\" derajat\")"
   ]
  },
  {
   "cell_type": "code",
   "execution_count": 61,
   "id": "4e112fa8",
   "metadata": {},
   "outputs": [
    {
     "name": "stdout",
     "output_type": "stream",
     "text": [
      "ketikan temperatur yang ingin dikonversi, eg. 45F, 120C: 0C\n",
      "Temperaturnya adalah  32  F\n"
     ]
    }
   ],
   "source": [
    "#contoh penggunaan\n",
    "\n",
    "temp=input(\"ketikan temperatur yang ingin dikonversi, eg. 45F, 120C: \")\n",
    "degree=int(temp[:-1])\n",
    "i_convertion=temp[-1]\n",
    "\n",
    "if i_convertion==\"C\":\n",
    "    result=int(round((9*degree)/5+32))\n",
    "    print(\"Temperaturnya adalah \",result,\" F\")\n",
    "elif i_convertion==\"F\":\n",
    "    result=int(round((degree-32)*5/9))\n",
    "    print(\"Temperaturnya adalah \",result,\" C\")\n",
    "else:\n",
    "    print(\"masukan input yang benar\")"
   ]
  },
  {
   "cell_type": "code",
   "execution_count": 60,
   "id": "dc48c320",
   "metadata": {},
   "outputs": [
    {
     "name": "stdout",
     "output_type": "stream",
     "text": [
      "Ketikan karakter: AYAM\n",
      "ayam\n",
      "Ketikan karakter: GORENG\n",
      "goreng\n",
      "Ketikan karakter: ENAK\n",
      "enak\n",
      "Ketikan karakter: STOP\n",
      "stop\n"
     ]
    }
   ],
   "source": [
    "while True:\n",
    "    msg=input(\"Ketikan karakter: \").lower()\n",
    "    print(msg)\n",
    "    if msg==\"stop\":\n",
    "        break"
   ]
  },
  {
   "cell_type": "code",
   "execution_count": 64,
   "id": "67b885b9",
   "metadata": {},
   "outputs": [
    {
     "name": "stdout",
     "output_type": "stream",
     "text": [
      "1900 ->OK\n",
      "2000 ->OK\n",
      "2016 ->OK\n",
      "1987 ->OK\n"
     ]
    }
   ],
   "source": [
    "def isYearLeap(year):\n",
    "    if (year % 4) == 0:\n",
    "        if (year % 100) == 0:\n",
    "            if (year % 400) == 0:\n",
    "                return True\n",
    "            else:\n",
    "                return False\n",
    "        else:\n",
    "            return True\n",
    "    else:\n",
    "        return False\n",
    "\n",
    "testData = [1900, 2000, 2016, 1987]\n",
    "testResults = [False, True, True, False]\n",
    "for i in range(len(testData)):\n",
    "    yr = testData[i]\n",
    "    print(yr,\"->\",end=\"\")\n",
    "    result = isYearLeap(yr)\n",
    "    if result == testResults[i]:\n",
    "        print(\"OK\")\n",
    "    else:\n",
    "        print(\"Failed\")"
   ]
  },
  {
   "cell_type": "code",
   "execution_count": 65,
   "id": "cd8c2c0b",
   "metadata": {},
   "outputs": [],
   "source": [
    "def hi():\n",
    "    return\n",
    "    print(\"Hi!\")\n",
    "\n",
    "hi()"
   ]
  },
  {
   "cell_type": "code",
   "execution_count": 66,
   "id": "d478bb0c",
   "metadata": {},
   "outputs": [
    {
     "name": "stdout",
     "output_type": "stream",
     "text": [
      "True\n",
      "False\n",
      "None\n"
     ]
    }
   ],
   "source": [
    "def isInt(data):\n",
    "    if type(data) == int:\n",
    "        return True\n",
    "    elif type(data) == float:\n",
    "        return False\n",
    "\n",
    "print(isInt(5))\n",
    "print(isInt(5.0))\n",
    "print(isInt(\"5\"))"
   ]
  },
  {
   "cell_type": "code",
   "execution_count": 67,
   "id": "36285a8b",
   "metadata": {},
   "outputs": [
    {
     "name": "stdout",
     "output_type": "stream",
     "text": [
      "[0, 2, 4, 6, 8, 10]\n"
     ]
    }
   ],
   "source": [
    "def evenNumLst(ran):\n",
    "    lst = []\n",
    "    for num in range(ran):\n",
    "        if num % 2 == 0:\n",
    "            lst.append(num)\n",
    "    return lst\n",
    "\n",
    "print(evenNumLst(11))"
   ]
  },
  {
   "cell_type": "code",
   "execution_count": 68,
   "id": "5e548b8b",
   "metadata": {},
   "outputs": [
    {
     "name": "stdout",
     "output_type": "stream",
     "text": [
      "[1, 4, 9, 16, 25]\n"
     ]
    }
   ],
   "source": [
    "def listUpdater(lst):\n",
    "    updList = []\n",
    "    for elem in lst:\n",
    "        elem **= 2\n",
    "        updList.append(elem)\n",
    "    return updList\n",
    "\n",
    "l = [1, 2, 3, 4, 5]\n",
    "print(listUpdater(l))"
   ]
  },
  {
   "cell_type": "code",
   "execution_count": 69,
   "id": "1718dc38",
   "metadata": {},
   "outputs": [
    {
     "ename": "NameError",
     "evalue": "name 'YY' is not defined",
     "output_type": "error",
     "traceback": [
      "\u001b[1;31m---------------------------------------------------------------------------\u001b[0m",
      "\u001b[1;31mNameError\u001b[0m                                 Traceback (most recent call last)",
      "Cell \u001b[1;32mIn[69], line 5\u001b[0m\n\u001b[0;32m      2\u001b[0m     YY \u001b[38;5;241m=\u001b[39m \u001b[38;5;241m123\u001b[39m\n\u001b[0;32m      4\u001b[0m scopeTest()\n\u001b[1;32m----> 5\u001b[0m \u001b[38;5;28mprint\u001b[39m(YY)\n",
      "\u001b[1;31mNameError\u001b[0m: name 'YY' is not defined"
     ]
    }
   ],
   "source": [
    "def scopeTest():\n",
    "    YY = 123\n",
    "\n",
    "scopeTest()\n",
    "print(YY)"
   ]
  },
  {
   "cell_type": "code",
   "execution_count": 73,
   "id": "296c2472",
   "metadata": {},
   "outputs": [
    {
     "name": "stdout",
     "output_type": "stream",
     "text": [
      "Do I know that variable? 1\n",
      "1\n"
     ]
    }
   ],
   "source": [
    "def myFunction():\n",
    "    print(\"Do I know that variable?\", var)\n",
    "\n",
    "vor = 5\n",
    "myFunction()\n",
    "print(var)"
   ]
  },
  {
   "cell_type": "code",
   "execution_count": 75,
   "id": "c39ca2b9",
   "metadata": {},
   "outputs": [
    {
     "name": "stdout",
     "output_type": "stream",
     "text": [
      "Do I know that variable? 4\n",
      "4\n"
     ]
    }
   ],
   "source": [
    "def myFunction():\n",
    "    global var\n",
    "    var = 4\n",
    "    print(\"Do I know that variable?\", var)\n",
    "\n",
    "var = 1\n",
    "myFunction()\n",
    "print(var)"
   ]
  },
  {
   "cell_type": "code",
   "execution_count": 76,
   "id": "82f26c5e",
   "metadata": {},
   "outputs": [
    {
     "name": "stdout",
     "output_type": "stream",
     "text": [
      "I got 1\n",
      "I have 2\n",
      "1\n"
     ]
    }
   ],
   "source": [
    "def myFunction(n):\n",
    "    print(\"I got\", n)\n",
    "    n += 1\n",
    "    print(\"I have\", n)\n",
    "\n",
    "var = 1\n",
    "myFunction(var)\n",
    "print(var)"
   ]
  },
  {
   "cell_type": "code",
   "execution_count": 78,
   "id": "019549a5",
   "metadata": {},
   "outputs": [
    {
     "name": "stdout",
     "output_type": "stream",
     "text": [
      "None\n"
     ]
    }
   ],
   "source": [
    "def bmi(weight, height):\n",
    "    if height < 1.0 or height > 2.5 or weight < 20 or weight > 200:\n",
    "        return None\n",
    "    \n",
    "    return weight / height ** 2\n",
    "\n",
    "print(bmi(352.5, 1.65))"
   ]
  },
  {
   "cell_type": "code",
   "execution_count": 79,
   "id": "fc812270",
   "metadata": {},
   "outputs": [
    {
     "name": "stdout",
     "output_type": "stream",
     "text": [
      "True\n",
      "False\n"
     ]
    }
   ],
   "source": [
    "def isItATriangle(a, b, c):\n",
    "    if a + b <= c:\n",
    "        return False\n",
    "    if b + c <= a:\n",
    "        return False\n",
    "    if c + a <= b:\n",
    "        return False\n",
    "    return True\n",
    "\n",
    "print(isItATriangle(1, 1, 1))\n",
    "print(isItATriangle(1, 1, 3))"
   ]
  },
  {
   "cell_type": "code",
   "execution_count": 83,
   "id": "807ead82",
   "metadata": {},
   "outputs": [
    {
     "name": "stdout",
     "output_type": "stream",
     "text": [
      "1 1\n",
      "2 2\n",
      "3 6\n",
      "4 24\n",
      "5 120\n",
      "6 720\n"
     ]
    }
   ],
   "source": [
    "def factorialFun(n):\n",
    "    if n < 0:\n",
    "        return None\n",
    "    if n < 2:\n",
    "        return 1\n",
    "    \n",
    "    product = 1\n",
    "    for i in range(2, n + 1):\n",
    "        product *= i\n",
    "    return product\n",
    "\n",
    "for n in range(1, 7): # testing\n",
    "    print(n, factorialFun(n))"
   ]
  },
  {
   "cell_type": "code",
   "execution_count": 81,
   "id": "733fde6b",
   "metadata": {},
   "outputs": [
    {
     "name": "stdout",
     "output_type": "stream",
     "text": [
      "1 -> 1\n",
      "2 -> 1\n",
      "3 -> 2\n",
      "4 -> 3\n",
      "5 -> 5\n",
      "6 -> 8\n",
      "7 -> 13\n",
      "8 -> 21\n",
      "9 -> 34\n"
     ]
    }
   ],
   "source": [
    "def fib(n):\n",
    "    if n < 1:\n",
    "         return None\n",
    "    if n < 3:\n",
    "        return 1\n",
    "\n",
    "    elem1 = elem2 = 1\n",
    "    sum = 0\n",
    "    for i in range(3, n + 1):\n",
    "        sum = elem1 + elem2\n",
    "        elem1, elem2 = elem2, sum\n",
    "    return sum\n",
    "\n",
    "for n in range(1, 10): # testing\n",
    "    print(n, \"->\", fib(n))"
   ]
  },
  {
   "cell_type": "code",
   "execution_count": 82,
   "id": "3c9cde38",
   "metadata": {},
   "outputs": [
    {
     "name": "stdout",
     "output_type": "stream",
     "text": [
      "(1, 2, 4, 8)\n",
      "(1.0, 0.5, 0.25, 0.125)\n"
     ]
    }
   ],
   "source": [
    "tuple1 = (1, 2, 4, 8)\n",
    "tuple2 = 1., .5, .25, .125\n",
    "\n",
    "print(tuple1)\n",
    "print(tuple2)"
   ]
  },
  {
   "cell_type": "code",
   "execution_count": null,
   "id": "3dc2f6d5",
   "metadata": {},
   "outputs": [],
   "source": []
  }
 ],
 "metadata": {
  "kernelspec": {
   "display_name": "Python 3 (ipykernel)",
   "language": "python",
   "name": "python3"
  },
  "language_info": {
   "codemirror_mode": {
    "name": "ipython",
    "version": 3
   },
   "file_extension": ".py",
   "mimetype": "text/x-python",
   "name": "python",
   "nbconvert_exporter": "python",
   "pygments_lexer": "ipython3",
   "version": "3.11.5"
  }
 },
 "nbformat": 4,
 "nbformat_minor": 5
}
