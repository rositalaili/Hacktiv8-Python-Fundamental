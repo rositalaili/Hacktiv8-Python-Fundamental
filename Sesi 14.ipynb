{
 "cells": [
  {
   "cell_type": "code",
   "execution_count": 1,
   "metadata": {},
   "outputs": [
    {
     "name": "stdout",
     "output_type": "stream",
     "text": [
      "2.0 is greater\n"
     ]
    }
   ],
   "source": [
    "#buatlah program Python yang menerima 2 angka sebagai input,\n",
    "#dan print angka yang lebih besar\n",
    "\n",
    "num1 = float(input(\"Enter the first number: \"))\n",
    "num2 = float(input(\"Enter the second number: \"))\n",
    "\n",
    "if num1>num2:\n",
    "    print(f\"{num1} is greater\")\n",
    "elif num2>num1:\n",
    "    print(f\"{num2} is greater\")\n",
    "else:\n",
    "    print(\"Both numbers are equal.\")"
   ]
  },
  {
   "cell_type": "code",
   "execution_count": 2,
   "metadata": {},
   "outputs": [
    {
     "name": "stdout",
     "output_type": "stream",
     "text": [
      "2024 is a leap year.\n"
     ]
    }
   ],
   "source": [
    "#buatlah program python yang bisa mengecek apakah tahun\n",
    "#ini termasuk tahun kabisat atau bukan\n",
    "\n",
    "year=int(input(\"Enter a year: \"))\n",
    "\n",
    "if(year%4==0 and year%100!=0) or (year%400==0):\n",
    "    print(f\"{year} is a leap year.\")\n",
    "else:\n",
    "    print(f\"{year} is not a leap year.\")"
   ]
  },
  {
   "cell_type": "code",
   "execution_count": 3,
   "metadata": {},
   "outputs": [
    {
     "name": "stdout",
     "output_type": "stream",
     "text": [
      "Sum of even numbers from 1 to 100:  2550\n"
     ]
    }
   ],
   "source": [
    "#buatlah program yang menghitung total semua angka genap\n",
    "#dari 1 sampai 100, gunakan while loop\n",
    "\n",
    "total = 0\n",
    "num = 2\n",
    "while num <=100:\n",
    "    total += num\n",
    "    num += 2\n",
    "print(\"Sum of even numbers from 1 to 100: \",total)"
   ]
  },
  {
   "cell_type": "code",
   "execution_count": 4,
   "metadata": {},
   "outputs": [
    {
     "name": "stdout",
     "output_type": "stream",
     "text": [
      "Access granted!\n"
     ]
    }
   ],
   "source": [
    "#buatlah program yang terus meminta input user\n",
    "#untuk memasukkan password hingga password \"secret\" terinput\n",
    "\n",
    "password=\"secret\"\n",
    "\n",
    "while True:\n",
    "    user_input=input(\"Enter the password: \")\n",
    "    if user_input == password:\n",
    "        print(\"Access granted!\")\n",
    "        break\n",
    "    else:\n",
    "        print(\"Incorrect password. Try again.\")"
   ]
  },
  {
   "cell_type": "code",
   "execution_count": 5,
   "metadata": {},
   "outputs": [
    {
     "name": "stdout",
     "output_type": "stream",
     "text": [
      "3 x 1 = 3\n",
      "3 x 2 = 6\n",
      "3 x 3 = 9\n",
      "3 x 4 = 12\n",
      "3 x 5 = 15\n",
      "3 x 6 = 18\n",
      "3 x 7 = 21\n",
      "3 x 8 = 24\n",
      "3 x 9 = 27\n",
      "3 x 10 = 30\n"
     ]
    }
   ],
   "source": [
    "#buatlah program yang membuat tabel multipilkasi \n",
    "#untuk sebuah angka dari 1*num. gunakan 'for' loop\n",
    "\n",
    "num = int(input(\"Enter a number: \"))\n",
    "\n",
    "for i in range(1,11):\n",
    "    print(f\"{num} x {i} = {num*i}\")"
   ]
  },
  {
   "cell_type": "code",
   "execution_count": 7,
   "metadata": {},
   "outputs": [
    {
     "name": "stdout",
     "output_type": "stream",
     "text": [
      "Number of vowels rosita in the string: 3\n"
     ]
    }
   ],
   "source": [
    "#buatlah program yang menghitung jumlah huruf hidup dalam sebuah string\n",
    "\n",
    "text = input(\"Enter a string: \")\n",
    "text = text.lower()\n",
    "\n",
    "vowel_count = 0\n",
    "for char in text:\n",
    "    if char in \"aeiou\":\n",
    "        vowel_count +=1\n",
    "\n",
    "print(f\"Number of vowels {text} in the string: {vowel_count}\")"
   ]
  },
  {
   "cell_type": "code",
   "execution_count": 9,
   "metadata": {},
   "outputs": [
    {
     "name": "stdout",
     "output_type": "stream",
     "text": [
      "Halo, Rosita Cantik\n"
     ]
    }
   ],
   "source": [
    "# Buatlah sebuah fungsi bernama `sapa` yang menerima satu argumen berupa nama dan mencetak pesan sapaan. Panggil fungsi tersebut dengan nama \"John\".●Buatlah sebuah fungsi `kuadrat` yang menerima satu angka sebagai argumen dan mengembalikan kuadrat dari angka tersebut. Cobalah fungsi ini dengan beberapa angka.19def sapa(nama):    print(f\"Halo, {nama}!\")sapa(\"John\")def kuadrat(angka):    return angka ** 2hasil = kuadrat(5)print(hasil)\n",
    "\n",
    "def sapa(nama):\n",
    "    print(f\"Halo, {nama}\")\n",
    "sapa(\"Rosita Cantik\")"
   ]
  },
  {
   "cell_type": "code",
   "execution_count": 10,
   "metadata": {},
   "outputs": [
    {
     "name": "stdout",
     "output_type": "stream",
     "text": [
      "25\n"
     ]
    }
   ],
   "source": [
    "#Buatlah sebuah fungsi kuadrat yang menerima satu angka sebagai argumen dan\n",
    "#mengembalikan kuadrat dari angka tersebut. Cobalah fungsi ini dengan beberapa\n",
    "#angka.\n",
    "\n",
    "def kuadrat(angka):\n",
    "    return angka**2\n",
    "\n",
    "hasil = kuadrat(5)\n",
    "print(hasil)"
   ]
  },
  {
   "cell_type": "code",
   "execution_count": 11,
   "metadata": {},
   "outputs": [
    {
     "name": "stdout",
     "output_type": "stream",
     "text": [
      "12\n"
     ]
    }
   ],
   "source": [
    "#Buatlah sebuah fungsi hitung luas persegi yang menerima dua argumen: panjang\n",
    "#dan lebar. \n",
    "\n",
    "def hitung_luas_persegi(panjang=1.0, lebar=1.0):\n",
    "    return panjang*lebar\n",
    "\n",
    "luas = hitung_luas_persegi(4,3)\n",
    "print(luas)"
   ]
  },
  {
   "cell_type": "code",
   "execution_count": 13,
   "metadata": {},
   "outputs": [
    {
     "name": "stdout",
     "output_type": "stream",
     "text": [
      "Rosita Cantik\n"
     ]
    }
   ],
   "source": [
    "#buatlah sebuah fungsi bentuk nama yang menerima dua argumen: nama depan dan nama belakang\n",
    "\n",
    "def bentuk_nama(nama_depan, nama_belakang=\"\"):\n",
    "    return f\"{nama_depan} {nama_belakang}\"\n",
    "\n",
    "nama = bentuk_nama(\"Rosita\",\"Cantik\")\n",
    "print(nama)"
   ]
  },
  {
   "cell_type": "code",
   "execution_count": 14,
   "metadata": {},
   "outputs": [
    {
     "name": "stdout",
     "output_type": "stream",
     "text": [
      "37.0\n"
     ]
    }
   ],
   "source": [
    "#buatlah sebuah fungsi konversi fahrenheit ke celcius yg menerima suhu dlm fahrenheit dan mengembalikan suhu tsb dalam celcius\n",
    "\n",
    "def konversi_fahrenheit_ke_celcius(fahrenheit):\n",
    "    celcius=(fahrenheit-32)*5/9\n",
    "    return celcius\n",
    "\n",
    "suhu_celsius = konversi_fahrenheit_ke_celcius(98.6)\n",
    "print(suhu_celsius)"
   ]
  },
  {
   "cell_type": "code",
   "execution_count": 2,
   "metadata": {},
   "outputs": [
    {
     "name": "stdout",
     "output_type": "stream",
     "text": [
      "8\n"
     ]
    }
   ],
   "source": [
    "#buatlah sebuah fungsi hitung pangkat yang menerima dua argumen\n",
    "#angka dan pangkat. Fungsi ini mengembalikan hasil dari angka pangkat.\n",
    "\n",
    "def hitung_pangkat(angka, pangkat):\n",
    "    hasil = 1\n",
    "    for _ in range(pangkat):\n",
    "        hasil *= angka\n",
    "    return hasil\n",
    "pangkat = hitung_pangkat(2,3)\n",
    "print(pangkat)"
   ]
  },
  {
   "cell_type": "code",
   "execution_count": 4,
   "metadata": {},
   "outputs": [
    {
     "name": "stdout",
     "output_type": "stream",
     "text": [
      "pilih operasi:\n",
      "1. Tambah\n",
      "2. Kurang\n",
      "3. Kali\n",
      "4. Bagi\n",
      "5. Keluar\n",
      "Hasil: 11.0\n",
      "pilih operasi:\n",
      "1. Tambah\n",
      "2. Kurang\n",
      "3. Kali\n",
      "4. Bagi\n",
      "5. Keluar\n",
      "keluar dari kalkulator\n"
     ]
    }
   ],
   "source": [
    "def tambah(x,y):\n",
    "    return x+y\n",
    "\n",
    "def kurang(x,y):\n",
    "    return x-y\n",
    "\n",
    "def kali(x,y):\n",
    "    return x*y\n",
    "\n",
    "def bagi(x,y):\n",
    "    if y==0:\n",
    "        return \"Tidak bisa dibagi oleh 0\"\n",
    "    return x/y\n",
    "\n",
    "while True:\n",
    "    print(\"pilih operasi:\")\n",
    "    print(\"1. Tambah\")\n",
    "    print(\"2. Kurang\")\n",
    "    print(\"3. Kali\")\n",
    "    print(\"4. Bagi\")\n",
    "    print(\"5. Keluar\")\n",
    "\n",
    "    pilihan = input(\"masukkan nomor opreasi (1/2/3/4/5): \")\n",
    "\n",
    "    if pilihan ==\"5\":\n",
    "        print(\"keluar dari kalkulator\")\n",
    "        break\n",
    "    \n",
    "    angka1=float(input(\"Masukkan angka pertama: \"))\n",
    "    angka2=float(input(\"Masukkan angka kedua: \"))\n",
    "\n",
    "    if pilihan==\"1\":\n",
    "        print(\"Hasil:\",tambah(angka1,angka2))\n",
    "    elif pilihan==\"2\":\n",
    "        print(\"Hasil:\",kurang(angka1,angka2))\n",
    "    elif pilihan==\"3\":\n",
    "        print(\"Hasil:\",kali(angka1,angka2))\n",
    "    elif pilihan==\"4\":\n",
    "        print(\"Hasil:\",bagi(angka1,angka2))\n",
    "    else:\n",
    "        print(\"Pilihan tidak valid\")"
   ]
  },
  {
   "cell_type": "code",
   "execution_count": 5,
   "metadata": {},
   "outputs": [
    {
     "name": "stdout",
     "output_type": "stream",
     "text": [
      "Apa yang ingin Anda lakukan?\n",
      "1. Tambahkan item ke daftar belanja\n",
      "2. Hapus item dari daftar belanja\n",
      "4. Keluar\n",
      "sabun telah ditambahkan ke daftar belanja.\n",
      "Apa yang ingin Anda lakukan?\n",
      "1. Tambahkan item ke daftar belanja\n",
      "2. Hapus item dari daftar belanja\n",
      "4. Keluar\n",
      "Pilihan tidak valid\n",
      "Apa yang ingin Anda lakukan?\n",
      "1. Tambahkan item ke daftar belanja\n",
      "2. Hapus item dari daftar belanja\n",
      "4. Keluar\n",
      "Pilihan tidak valid\n",
      "Apa yang ingin Anda lakukan?\n",
      "1. Tambahkan item ke daftar belanja\n",
      "2. Hapus item dari daftar belanja\n",
      "4. Keluar\n",
      "Keluar dari daftar belanja\n"
     ]
    }
   ],
   "source": [
    "shopping_list=[]\n",
    "\n",
    "def tambah_item(item):\n",
    "    shopping_list.append(item)\n",
    "    print(f\"{item} telah ditambahkan ke daftar belanja.\")\n",
    "\n",
    "def hapus_item(item):\n",
    "    if item in shopping_list:\n",
    "        shopping_list.remove(item)\n",
    "        print(f\"{item} telah dihapus dari daftar belanja.\")\n",
    "\n",
    "    else:\n",
    "        print(f\"{item} tidak ditemukan dalam daftar belanja.\")\n",
    "\n",
    "def tampilkan_daftar():\n",
    "    print(\"daftar Belanja: \")\n",
    "    for item in shopping_list:\n",
    "        print(\"-\",item)\n",
    "\n",
    "while True:\n",
    "    print(\"Apa yang ingin Anda lakukan?\")\n",
    "    print(\"1. Tambahkan item ke daftar belanja\")\n",
    "    print(\"2. Hapus item dari daftar belanja\")\n",
    "    print(\"3. Tampilkan daftar belanja\")\n",
    "    print(\"4. Keluar\")\n",
    "\n",
    "    pilihan = input(\"Pilih tindakan (1/2/3/4): \")\n",
    "\n",
    "    if pilihan=='1':\n",
    "        item=input(\"Masukkan item yang ingin ditambahkan: \")\n",
    "        tambah_item(item)\n",
    "    elif pilihan=='2':\n",
    "        item=input(\"Masukkan item yang ingin dihapus: \")\n",
    "        hapus_item(item)\n",
    "    elif pilihan=='3':\n",
    "        tampilkan_daftar()\n",
    "    elif pilihan=='4':\n",
    "        print(\"Keluar dari daftar belanja\")\n",
    "        break\n",
    "    else:\n",
    "        print(\"Pilihan tidak valid\")"
   ]
  },
  {
   "cell_type": "code",
   "execution_count": 7,
   "metadata": {},
   "outputs": [
    {
     "name": "stdout",
     "output_type": "stream",
     "text": [
      "BMI Anda adalah 20.61 (Normal)\n"
     ]
    }
   ],
   "source": [
    "def hitung_bmi(berat, tinggi):\n",
    "    tinggi_m = tinggi/100\n",
    "    bmi = berat/(tinggi_m**2)\n",
    "    return bmi\n",
    "\n",
    "def kategori_bmi(bmi):\n",
    "    if bmi<18.5:\n",
    "        return \"Kurus\"\n",
    "    elif 18.5 <=bmi<24.9:\n",
    "        return \"Normal\"\n",
    "    elif 25<= bmi < 29.9:\n",
    "        return \"Gemuk\"\n",
    "    else:\n",
    "        return \"Obesitas\"\n",
    "    \n",
    "berat = float(input(\"Masukkan berat badan (kg): \"))\n",
    "tinggi = float(input(\"Masukkan tinggi badan (cm): \"))\n",
    "\n",
    "bmi = hitung_bmi(berat, tinggi)\n",
    "kategori = kategori_bmi(bmi)\n",
    "\n",
    "print(f\"BMI Anda adalah {bmi:.2f} ({kategori})\")\n"
   ]
  },
  {
   "cell_type": "code",
   "execution_count": 8,
   "metadata": {},
   "outputs": [
    {
     "name": "stdout",
     "output_type": "stream",
     "text": [
      "'teks' ditemukan dalam teks.\n"
     ]
    }
   ],
   "source": [
    "#Pencarian kata dalam Teks\n",
    "teks = \"\"\"Ini adalah contoh teks.\n",
    "Teks ini digunakan untuk latihan pencarian kata.\"\"\"\n",
    "\n",
    "kata_cari = input(\"Masukkan kata yang ingin Anda cari: \")\n",
    "\n",
    "if kata_cari in teks:\n",
    "    print(f\"'{kata_cari}' ditemukan dalam teks.\")\n",
    "else:\n",
    "    print(f\"'{kata_cari}' tidak ditemukan dalam teks.\")\n"
   ]
  },
  {
   "cell_type": "code",
   "execution_count": 9,
   "metadata": {},
   "outputs": [
    {
     "name": "stdout",
     "output_type": "stream",
     "text": [
      "1.0 USD setara dengan 15000.0 IDR.\n"
     ]
    }
   ],
   "source": [
    "#Konversi mata uang\n",
    "\n",
    "def konversi_mata_uang(jumlah, nilai_tukar):\n",
    "    return jumlah*nilai_tukar\n",
    "\n",
    "usd_ke_idr = 15000\n",
    "\n",
    "jumlah_usd = float(input(\"Masukkan jumlah dalam USD: \"))\n",
    "jumlah_idr = konversi_mata_uang(jumlah_usd, usd_ke_idr)\n",
    "\n",
    "print(f\"{jumlah_usd} USD setara dengan {jumlah_idr} IDR.\")"
   ]
  },
  {
   "cell_type": "code",
   "execution_count": null,
   "metadata": {},
   "outputs": [],
   "source": [
    "import pandas as pd \n",
    "\n",
    "def baca_data_excel(nama_file):\n",
    "    df = pd.read_excel(nama_file)\n",
    "    return df\n",
    "\n",
    "def tulis_data_excel(nama_file, df):\n",
    "    df.to_excel(nama_file, index=False)\n",
    "\n",
    "def main():\n",
    "    nama_file='produk.xlsx'\n",
    "    produk=baca_data_excel(nama_file)\n",
    "\n",
    "    print(\"Data Produk: \")\n",
    "    print(produk)\n",
    "\n",
    "    tambah_produk=input(\"Tambah produk baru? (y/n): \")\n",
    "    if tambah_produk.lower()=='y':\n",
    "        nama_produk=input(\"Nama produk: \")\n",
    "        harga_produk=input(\"Harga produk (IDR): \")\n",
    "        stok_produk=input(\"Stok produk: \")\n",
    "\n",
    "        produk_baru={'Nama Produk': nama_produk, 'Harga': harga_produk, 'Stok':stok_produk}\n",
    "        produk=produk.append(produk_baru, ignore_index=True)\n",
    "\n",
    "        tulis_data_excel(nama_file, produk)\n",
    "        print(\"Produk berhasil ditambahkan dan disimpan.\")\n",
    "\n",
    "if __name__==\"__main__\":\n",
    "    main()"
   ]
  },
  {
   "cell_type": "code",
   "execution_count": null,
   "metadata": {},
   "outputs": [],
   "source": [
    "import sqlite3\n",
    "\n",
    "def baca_data_sqlite(database_file):\n",
    "    connection=sqlite3.connect(database_file)\n",
    "    cursor=connection.cursor()\n",
    "    cursor.execute(\"SELECT * FROM produk\")\n",
    "    data = cursor.fetchal1()\n",
    "    connection.close()\n",
    "    return data\n",
    "\n",
    "def tambah_data_sqlite(database_file, nama_produk, harga, stok):\n",
    "    connection=sqlite3.connect(database_file)\n",
    "    cursor=connection.cursor()\n",
    "    cursor.execute(\"INSERT INTO produk (nama_produk, harga, stok) VALUES (?,?,?)\",\n",
    "                   (nama_produk, harga, stok))\n",
    "    connection.commit()\n",
    "    connection.close()\n",
    "\n",
    "def main():\n",
    "    database_file='produk.db'\n",
    "    produk = baca_data_sqlite(database_file)\n",
    "\n",
    "    print(\"Data Produk:\")\n",
    "    for item in produk:        \n",
    "        print(f\"{item[1]}: {item[2]} IDR, Stok: {item[3]}\")    \n",
    "    \n",
    "    tambah_produk = input(\"Tambah produk baru? (y/n): \")    \n",
    "    if tambah_produk.lower() == 'y':        \n",
    "        nama_produk = input(\"Nama produk: \")        \n",
    "        harga_produk = input(\"Harga produk (IDR): \")        \n",
    "        stok_produk = input(\"Stok produk: \")        \n",
    "        \n",
    "        tambah_data_sqlite(database_file, nama_produk, harga_produk, stok_produk)        \n",
    "        print(\"Produk berhasil ditambahkan dan disimpan.\")\n",
    "\n",
    "if __name__ == \"__main__\":    \n",
    "    main()\n"
   ]
  },
  {
   "cell_type": "code",
   "execution_count": null,
   "metadata": {},
   "outputs": [],
   "source": [
    "import csv\n",
    "\n",
    "def baca_data_csv(nama_file):\n",
    "    data=[]\n",
    "    with open(nama_file, mode='r') as file:        \n",
    "        csv_reader = csv.DictReader(file)        \n",
    "        for row in csv_reader:            \n",
    "            data.append(row)    \n",
    "    return data\n",
    "\n",
    "def tulis_data_csv(nama_file, data):    \n",
    "    with open(nama_file, mode='w', newline='') as file:        \n",
    "        fieldnames = data[0].keys()        \n",
    "        writer = csv.DictWriter(file, fieldnames=fieldnames)        \n",
    "        writer.writeheader()        \n",
    "        writer.writerows(data)\n",
    "\n",
    "def main():    \n",
    "    nama_file = 'produk.csv'    \n",
    "    produk = baca_data_csv(nama_file)    \n",
    "    print(\"Data Produk:\")    \n",
    "    for item in produk:        \n",
    "        print(f\"{item['Nama Produk']}: {item['Harga']} IDR, Stok: {item['Stok']}\")    \n",
    "    \n",
    "    tambah_produk = input(\"Tambah produk baru? (y/n): \")    \n",
    "    if tambah_produk.lower() == 'y':        \n",
    "        nama_produk = input(\"Nama produk: \")        \n",
    "        harga_produk = input(\"Harga produk (IDR): \")        \n",
    "        stok_produk = input(\"Stok produk: \")        \n",
    "        \n",
    "        produk_baru = {'Nama Produk': nama_produk, 'Harga': harga_produk, 'Stok': stok_produk}        \n",
    "        produk.append(produk_baru)        \n",
    "        \n",
    "        tulis_data_csv(nama_file, produk)        \n",
    "        print(\"Produk berhasil ditambahkan dan disimpan.\")\n",
    "        \n",
    "        if __name__ == \"__main__\":    \n",
    "            main()"
   ]
  }
 ],
 "metadata": {
  "kernelspec": {
   "display_name": "base",
   "language": "python",
   "name": "python3"
  },
  "language_info": {
   "codemirror_mode": {
    "name": "ipython",
    "version": 3
   },
   "file_extension": ".py",
   "mimetype": "text/x-python",
   "name": "python",
   "nbconvert_exporter": "python",
   "pygments_lexer": "ipython3",
   "version": "3.11.5"
  }
 },
 "nbformat": 4,
 "nbformat_minor": 2
}
